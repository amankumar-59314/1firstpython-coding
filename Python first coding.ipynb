{
 "cells": [
  {
   "cell_type": "code",
   "execution_count": 1,
   "id": "c2161d3b-75c7-4d7b-b807-d2045f4637b5",
   "metadata": {},
   "outputs": [],
   "source": [
    "a=5"
   ]
  },
  {
   "cell_type": "code",
   "execution_count": 2,
   "id": "29dd1d89-15ad-4e15-8c72-5eb12a1cbe29",
   "metadata": {},
   "outputs": [
    {
     "data": {
      "text/plain": [
       "5"
      ]
     },
     "execution_count": 2,
     "metadata": {},
     "output_type": "execute_result"
    }
   ],
   "source": [
    "5"
   ]
  },
  {
   "cell_type": "code",
   "execution_count": 3,
   "id": "2cc86597-ee4d-4a1a-99bc-b8607c20fd23",
   "metadata": {},
   "outputs": [],
   "source": [
    "ama=10"
   ]
  },
  {
   "cell_type": "code",
   "execution_count": 4,
   "id": "ad674ea1-8926-4db8-9c82-c9b51081b43e",
   "metadata": {},
   "outputs": [
    {
     "data": {
      "text/plain": [
       "10"
      ]
     },
     "execution_count": 4,
     "metadata": {},
     "output_type": "execute_result"
    }
   ],
   "source": [
    "10"
   ]
  },
  {
   "cell_type": "code",
   "execution_count": 5,
   "id": "a93ad673-051e-4e38-bd97-43c16092a21a",
   "metadata": {},
   "outputs": [
    {
     "data": {
      "text/plain": [
       "15"
      ]
     },
     "execution_count": 5,
     "metadata": {},
     "output_type": "execute_result"
    }
   ],
   "source": [
    "a+ama"
   ]
  },
  {
   "cell_type": "code",
   "execution_count": 6,
   "id": "55bbf76a-dcef-472c-a8e7-eca585bfcdd1",
   "metadata": {},
   "outputs": [
    {
     "data": {
      "text/plain": [
       "int"
      ]
     },
     "execution_count": 6,
     "metadata": {},
     "output_type": "execute_result"
    }
   ],
   "source": [
    "type(ama)"
   ]
  },
  {
   "cell_type": "code",
   "execution_count": 22,
   "id": "0eafa79e-c99f-4ff9-8be7-6c729beebcce",
   "metadata": {},
   "outputs": [
    {
     "data": {
      "text/plain": [
       "int"
      ]
     },
     "execution_count": 22,
     "metadata": {},
     "output_type": "execute_result"
    }
   ],
   "source": [
    "type(a)"
   ]
  },
  {
   "cell_type": "code",
   "execution_count": 9,
   "id": "e0c2cfe1-fc09-4c0b-b24c-ba475b019b46",
   "metadata": {},
   "outputs": [
    {
     "data": {
      "text/plain": [
       "type[10]"
      ]
     },
     "execution_count": 9,
     "metadata": {},
     "output_type": "execute_result"
    }
   ],
   "source": [
    "type[ama]"
   ]
  },
  {
   "cell_type": "code",
   "execution_count": 15,
   "id": "22354db4-e4f3-4408-89ea-a7e351881284",
   "metadata": {},
   "outputs": [],
   "source": [
    "c=3.09"
   ]
  },
  {
   "cell_type": "code",
   "execution_count": 16,
   "id": "4204e387-9d3c-476a-ba5a-5ddbf838c189",
   "metadata": {},
   "outputs": [
    {
     "data": {
      "text/plain": [
       "type[3.09]"
      ]
     },
     "execution_count": 16,
     "metadata": {},
     "output_type": "execute_result"
    }
   ],
   "source": [
    "type[c]"
   ]
  },
  {
   "cell_type": "code",
   "execution_count": 17,
   "id": "420a328c-08f0-47d2-98fd-a12f0e1b9831",
   "metadata": {},
   "outputs": [
    {
     "data": {
      "text/plain": [
       "float"
      ]
     },
     "execution_count": 17,
     "metadata": {},
     "output_type": "execute_result"
    }
   ],
   "source": [
    "type(c)"
   ]
  },
  {
   "cell_type": "code",
   "execution_count": 19,
   "id": "70c7664e-e62b-4373-9190-8abdfe6ac24a",
   "metadata": {},
   "outputs": [],
   "source": [
    "d=\"hi\""
   ]
  },
  {
   "cell_type": "code",
   "execution_count": 20,
   "id": "da0ee6ab-9961-4185-8a53-dfa7ae351e44",
   "metadata": {},
   "outputs": [
    {
     "data": {
      "text/plain": [
       "str"
      ]
     },
     "execution_count": 20,
     "metadata": {},
     "output_type": "execute_result"
    }
   ],
   "source": [
    "type(d)"
   ]
  },
  {
   "cell_type": "code",
   "execution_count": 21,
   "id": "951354bf-8bd2-41f4-9685-5b21351c443d",
   "metadata": {},
   "outputs": [
    {
     "data": {
      "text/plain": [
       "type['hi']"
      ]
     },
     "execution_count": 21,
     "metadata": {},
     "output_type": "execute_result"
    }
   ],
   "source": [
    "type[d]"
   ]
  },
  {
   "cell_type": "code",
   "execution_count": 23,
   "id": "71963737-1642-4cfa-9e42-ae44b922814f",
   "metadata": {},
   "outputs": [],
   "source": [
    "n=True"
   ]
  },
  {
   "cell_type": "code",
   "execution_count": 25,
   "id": "5d41526c-f5b5-4718-9e06-02e1e4ac6d38",
   "metadata": {},
   "outputs": [
    {
     "data": {
      "text/plain": [
       "bool"
      ]
     },
     "execution_count": 25,
     "metadata": {},
     "output_type": "execute_result"
    }
   ],
   "source": [
    "type(n)"
   ]
  },
  {
   "cell_type": "code",
   "execution_count": 26,
   "id": "c4f6d100-7d78-4e63-9f9c-4680ded832eb",
   "metadata": {},
   "outputs": [],
   "source": [
    "m=False"
   ]
  },
  {
   "cell_type": "code",
   "execution_count": 28,
   "id": "842f4301-e21c-4f87-9423-9b4da2c809fb",
   "metadata": {},
   "outputs": [
    {
     "data": {
      "text/plain": [
       "bool"
      ]
     },
     "execution_count": 28,
     "metadata": {},
     "output_type": "execute_result"
    }
   ],
   "source": [
    "type(m)"
   ]
  },
  {
   "cell_type": "code",
   "execution_count": 29,
   "id": "8d6a24c1-3805-4a1d-aef1-fb03ec04068f",
   "metadata": {},
   "outputs": [
    {
     "ename": "ZeroDivisionError",
     "evalue": "division by zero",
     "output_type": "error",
     "traceback": [
      "\u001b[0;31m---------------------------------------------------------------------------\u001b[0m",
      "\u001b[0;31mZeroDivisionError\u001b[0m                         Traceback (most recent call last)",
      "Cell \u001b[0;32mIn[29], line 1\u001b[0m\n\u001b[0;32m----> 1\u001b[0m \u001b[38;5;28;43;01mTrue\u001b[39;49;00m\u001b[38;5;241;43m/\u001b[39;49m\u001b[38;5;28;43;01mFalse\u001b[39;49;00m\n",
      "\u001b[0;31mZeroDivisionError\u001b[0m: division by zero"
     ]
    }
   ],
   "source": [
    "True/False"
   ]
  },
  {
   "cell_type": "code",
   "execution_count": 30,
   "id": "5592ff76-8765-4eaa-81b6-2114774250c9",
   "metadata": {},
   "outputs": [
    {
     "data": {
      "text/plain": [
       "2"
      ]
     },
     "execution_count": 30,
     "metadata": {},
     "output_type": "execute_result"
    }
   ],
   "source": [
    "True+True"
   ]
  },
  {
   "cell_type": "code",
   "execution_count": 31,
   "id": "b9843a61-e9d9-40bd-8657-e75d347fcc0c",
   "metadata": {},
   "outputs": [
    {
     "data": {
      "text/plain": [
       "1"
      ]
     },
     "execution_count": 31,
     "metadata": {},
     "output_type": "execute_result"
    }
   ],
   "source": [
    "0+True"
   ]
  },
  {
   "cell_type": "code",
   "execution_count": 32,
   "id": "1ff7995f-1a10-4ed9-93b1-68ee71e159cd",
   "metadata": {},
   "outputs": [
    {
     "data": {
      "text/plain": [
       "6"
      ]
     },
     "execution_count": 32,
     "metadata": {},
     "output_type": "execute_result"
    }
   ],
   "source": [
    "True+5+False"
   ]
  },
  {
   "cell_type": "code",
   "execution_count": 35,
   "id": "006cfa4e-78d3-4075-85f9-c02bc61a7930",
   "metadata": {},
   "outputs": [
    {
     "data": {
      "text/plain": [
       "20"
      ]
     },
     "execution_count": 35,
     "metadata": {},
     "output_type": "execute_result"
    }
   ],
   "source": [
    "True+10+3*3"
   ]
  },
  {
   "cell_type": "code",
   "execution_count": 36,
   "id": "ea76b707-cc50-4b6d-9b39-d41fc0189dfb",
   "metadata": {},
   "outputs": [
    {
     "ename": "ZeroDivisionError",
     "evalue": "division by zero",
     "output_type": "error",
     "traceback": [
      "\u001b[0;31m---------------------------------------------------------------------------\u001b[0m",
      "\u001b[0;31mZeroDivisionError\u001b[0m                         Traceback (most recent call last)",
      "Cell \u001b[0;32mIn[36], line 1\u001b[0m\n\u001b[0;32m----> 1\u001b[0m \u001b[38;5;241;43m1\u001b[39;49m\u001b[38;5;241;43m/\u001b[39;49m\u001b[38;5;241;43m0\u001b[39;49m\n",
      "\u001b[0;31mZeroDivisionError\u001b[0m: division by zero"
     ]
    }
   ],
   "source": [
    "1/0"
   ]
  },
  {
   "cell_type": "code",
   "execution_count": 37,
   "id": "21bbd283-57a7-4cd9-889a-718a8aaf2f69",
   "metadata": {},
   "outputs": [
    {
     "data": {
      "text/plain": [
       "0.0"
      ]
     },
     "execution_count": 37,
     "metadata": {},
     "output_type": "execute_result"
    }
   ],
   "source": [
    "0/1"
   ]
  },
  {
   "cell_type": "code",
   "execution_count": 38,
   "id": "9adac9c7-0bc5-4377-a851-a83cc6cd8bdd",
   "metadata": {},
   "outputs": [
    {
     "data": {
      "text/plain": [
       "0.0"
      ]
     },
     "execution_count": 38,
     "metadata": {},
     "output_type": "execute_result"
    }
   ],
   "source": [
    "0/1/1"
   ]
  },
  {
   "cell_type": "code",
   "execution_count": 2,
   "id": "92c0cec3-28bd-4792-9f7e-b7afac4c0880",
   "metadata": {},
   "outputs": [
    {
     "ename": "ZeroDivisionError",
     "evalue": "division by zero",
     "output_type": "error",
     "traceback": [
      "\u001b[0;31m---------------------------------------------------------------------------\u001b[0m",
      "\u001b[0;31mZeroDivisionError\u001b[0m                         Traceback (most recent call last)",
      "Cell \u001b[0;32mIn[2], line 1\u001b[0m\n\u001b[0;32m----> 1\u001b[0m \u001b[38;5;241;43m1\u001b[39;49m\u001b[38;5;241;43m/\u001b[39;49m\u001b[38;5;241;43m0\u001b[39;49m\u001b[38;5;241m/\u001b[39m\u001b[38;5;241m1\u001b[39m\u001b[38;5;241m/\u001b[39m\u001b[38;5;241m0\u001b[39m\u001b[38;5;241m/\u001b[39m\u001b[38;5;241m0\u001b[39m\u001b[38;5;241m/\u001b[39m\u001b[38;5;241m1\u001b[39m\n",
      "\u001b[0;31mZeroDivisionError\u001b[0m: division by zero"
     ]
    }
   ],
   "source": [
    "1/0/1/0/0/1"
   ]
  },
  {
   "cell_type": "code",
   "execution_count": null,
   "id": "91087820-d7ba-468e-9e03-46672f3f0831",
   "metadata": {},
   "outputs": [],
   "source": [
    "ama=80+8j"
   ]
  },
  {
   "cell_type": "code",
   "execution_count": null,
   "id": "33ca9f4a-2008-4826-9b4f-53437bf9e450",
   "metadata": {},
   "outputs": [],
   "source": [
    "type(v)"
   ]
  },
  {
   "cell_type": "code",
   "execution_count": null,
   "id": "1813ed1e-471f-4972-a388-644f94f7452a",
   "metadata": {},
   "outputs": [],
   "source": [
    "ama.real"
   ]
  },
  {
   "cell_type": "code",
   "execution_count": null,
   "id": "8cabc408-77bb-4054-b4d7-1ae873f5d041",
   "metadata": {},
   "outputs": [],
   "source": [
    "ama.imag\n"
   ]
  },
  {
   "cell_type": "code",
   "execution_count": 3,
   "id": "faa745a6-f7ba-452d-9134-2c41139efa1a",
   "metadata": {},
   "outputs": [
    {
     "ename": "NameError",
     "evalue": "name 'ama' is not defined",
     "output_type": "error",
     "traceback": [
      "\u001b[0;31m---------------------------------------------------------------------------\u001b[0m",
      "\u001b[0;31mNameError\u001b[0m                                 Traceback (most recent call last)",
      "Cell \u001b[0;32mIn[3], line 1\u001b[0m\n\u001b[0;32m----> 1\u001b[0m \u001b[43mama\u001b[49m\n",
      "\u001b[0;31mNameError\u001b[0m: name 'ama' is not defined"
     ]
    }
   ],
   "source": [
    "ama"
   ]
  },
  {
   "cell_type": "code",
   "execution_count": null,
   "id": "ca50fede-7320-4877-8587-c320a2725be1",
   "metadata": {},
   "outputs": [],
   "source": [
    "print(\"my name\")"
   ]
  },
  {
   "cell_type": "code",
   "execution_count": null,
   "id": "53430579-655d-4058-99bd-1039e154df91",
   "metadata": {},
   "outputs": [],
   "source": [
    "print(\"ama\")"
   ]
  },
  {
   "cell_type": "code",
   "execution_count": 4,
   "id": "35b00f5d-bcc5-47c9-b40c-fbb49f002f05",
   "metadata": {},
   "outputs": [
    {
     "data": {
      "text/plain": [
       "4"
      ]
     },
     "execution_count": 4,
     "metadata": {},
     "output_type": "execute_result"
    }
   ],
   "source": [
    "2+2\n"
   ]
  },
  {
   "cell_type": "code",
   "execution_count": 1,
   "id": "65ccc2f7-1c81-4a61-8690-430b7befcc6f",
   "metadata": {},
   "outputs": [
    {
     "data": {
      "text/plain": [
       "str"
      ]
     },
     "execution_count": 1,
     "metadata": {},
     "output_type": "execute_result"
    }
   ],
   "source": [
    "type(\"ama\")"
   ]
  },
  {
   "cell_type": "code",
   "execution_count": 2,
   "id": "c4a98453-f1e9-4d1c-b989-2331503f17e4",
   "metadata": {},
   "outputs": [
    {
     "data": {
      "text/plain": [
       "str"
      ]
     },
     "execution_count": 2,
     "metadata": {},
     "output_type": "execute_result"
    }
   ],
   "source": [
    "type(\"my name\")"
   ]
  },
  {
   "cell_type": "code",
   "execution_count": 8,
   "id": "2d091033-7c2d-40bf-a00e-89ca3b0b4bb5",
   "metadata": {},
   "outputs": [
    {
     "data": {
      "text/plain": [
       "str"
      ]
     },
     "execution_count": 8,
     "metadata": {},
     "output_type": "execute_result"
    }
   ],
   "source": [
    "type(\"sTR\")"
   ]
  },
  {
   "cell_type": "code",
   "execution_count": 12,
   "id": "04d05a61-ecf8-4c55-8252-726f51577dbc",
   "metadata": {},
   "outputs": [],
   "source": [
    "o=\"amao\""
   ]
  },
  {
   "cell_type": "code",
   "execution_count": 14,
   "id": "876e171d-0dcd-4c99-ab3b-3d757c19a15e",
   "metadata": {},
   "outputs": [
    {
     "data": {
      "text/plain": [
       "str"
      ]
     },
     "execution_count": 14,
     "metadata": {},
     "output_type": "execute_result"
    }
   ],
   "source": [
    "type(o)"
   ]
  },
  {
   "cell_type": "code",
   "execution_count": 15,
   "id": "248df93b-22f2-4219-becb-9b9940f5619a",
   "metadata": {},
   "outputs": [
    {
     "data": {
      "text/plain": [
       "'m'"
      ]
     },
     "execution_count": 15,
     "metadata": {},
     "output_type": "execute_result"
    }
   ],
   "source": [
    "o[1]"
   ]
  },
  {
   "cell_type": "code",
   "execution_count": 16,
   "id": "9a715db1-f25e-4a5d-825c-4d94bfa18004",
   "metadata": {},
   "outputs": [
    {
     "data": {
      "text/plain": [
       "'o'"
      ]
     },
     "execution_count": 16,
     "metadata": {},
     "output_type": "execute_result"
    }
   ],
   "source": [
    "o[-1]"
   ]
  },
  {
   "cell_type": "code",
   "execution_count": 17,
   "id": "55912379-88a2-4229-8c42-4e6fdd2eba7e",
   "metadata": {},
   "outputs": [
    {
     "data": {
      "text/plain": [
       "'a'"
      ]
     },
     "execution_count": 17,
     "metadata": {},
     "output_type": "execute_result"
    }
   ],
   "source": [
    "o[0:1]"
   ]
  },
  {
   "cell_type": "code",
   "execution_count": 23,
   "id": "edb71f31-6f80-4dd9-bdea-4f6812365ba2",
   "metadata": {},
   "outputs": [
    {
     "data": {
      "text/plain": [
       "'am'"
      ]
     },
     "execution_count": 23,
     "metadata": {},
     "output_type": "execute_result"
    }
   ],
   "source": [
    "o[0:2:1]"
   ]
  },
  {
   "cell_type": "code",
   "execution_count": 24,
   "id": "5629f7eb-5f21-44d7-ae22-c1d1d2c971ff",
   "metadata": {},
   "outputs": [
    {
     "data": {
      "text/plain": [
       "'mao'"
      ]
     },
     "execution_count": 24,
     "metadata": {},
     "output_type": "execute_result"
    }
   ],
   "source": [
    "o[1:]"
   ]
  },
  {
   "cell_type": "code",
   "execution_count": 25,
   "id": "ca3e923d-91d8-44d0-847b-07e3e01d3920",
   "metadata": {},
   "outputs": [
    {
     "data": {
      "text/plain": [
       "'a'"
      ]
     },
     "execution_count": 25,
     "metadata": {},
     "output_type": "execute_result"
    }
   ],
   "source": [
    "o[2]"
   ]
  },
  {
   "cell_type": "code",
   "execution_count": 26,
   "id": "1b643645-e906-4ae8-8427-b50cbaadcf81",
   "metadata": {},
   "outputs": [
    {
     "data": {
      "text/plain": [
       "'ao'"
      ]
     },
     "execution_count": 26,
     "metadata": {},
     "output_type": "execute_result"
    }
   ],
   "source": [
    "o[2:]"
   ]
  },
  {
   "cell_type": "code",
   "execution_count": 27,
   "id": "f3d2a040-49d5-43d9-acc1-ea8a2cb84438",
   "metadata": {},
   "outputs": [
    {
     "data": {
      "text/plain": [
       "'ma'"
      ]
     },
     "execution_count": 27,
     "metadata": {},
     "output_type": "execute_result"
    }
   ],
   "source": [
    "o[1:-1]"
   ]
  },
  {
   "cell_type": "code",
   "execution_count": 32,
   "id": "cee08fdd-bc3f-4deb-8bca-ee052408d7a4",
   "metadata": {},
   "outputs": [
    {
     "data": {
      "text/plain": [
       "-5"
      ]
     },
     "execution_count": 32,
     "metadata": {},
     "output_type": "execute_result"
    }
   ],
   "source": [
    "3-8"
   ]
  },
  {
   "cell_type": "code",
   "execution_count": 1,
   "id": "0900efc4-f39f-4fd9-94ca-b29f047da326",
   "metadata": {},
   "outputs": [],
   "source": [
    "g=400"
   ]
  },
  {
   "cell_type": "code",
   "execution_count": 7,
   "id": "4e6970c7-60e7-4541-9bfe-ce400623b8d3",
   "metadata": {},
   "outputs": [],
   "source": [
    "s1=\"THIS IS MY CLLAS\""
   ]
  },
  {
   "cell_type": "code",
   "execution_count": 8,
   "id": "63047471-d60a-4cbd-b474-4b5507347217",
   "metadata": {},
   "outputs": [
    {
     "data": {
      "text/plain": [
       "16"
      ]
     },
     "execution_count": 8,
     "metadata": {},
     "output_type": "execute_result"
    }
   ],
   "source": [
    "len(s1)"
   ]
  },
  {
   "cell_type": "code",
   "execution_count": 12,
   "id": "00933ac7-b9fa-40a8-ba28-bd0236c24e2c",
   "metadata": {},
   "outputs": [
    {
     "data": {
      "text/plain": [
       "3"
      ]
     },
     "execution_count": 12,
     "metadata": {},
     "output_type": "execute_result"
    }
   ],
   "source": [
    "s1.find('S')"
   ]
  },
  {
   "cell_type": "code",
   "execution_count": 16,
   "id": "6f7d6a9a-3794-449d-abf1-108cccca1c46",
   "metadata": {},
   "outputs": [
    {
     "data": {
      "text/plain": [
       "12"
      ]
     },
     "execution_count": 16,
     "metadata": {},
     "output_type": "execute_result"
    }
   ],
   "source": [
    "s1.find('L')\n"
   ]
  },
  {
   "cell_type": "code",
   "execution_count": 18,
   "id": "d64dd123-89c4-4e79-b571-75c862cf2b14",
   "metadata": {},
   "outputs": [
    {
     "data": {
      "text/plain": [
       "1"
      ]
     },
     "execution_count": 18,
     "metadata": {},
     "output_type": "execute_result"
    }
   ],
   "source": [
    "s1.count('T')"
   ]
  },
  {
   "cell_type": "code",
   "execution_count": 19,
   "id": "c35987a6-1eb8-4c81-b45f-0b924e3226b4",
   "metadata": {},
   "outputs": [
    {
     "data": {
      "text/plain": [
       "'THIS IS MY CLLAS'"
      ]
     },
     "execution_count": 19,
     "metadata": {},
     "output_type": "execute_result"
    }
   ],
   "source": [
    "s1"
   ]
  },
  {
   "cell_type": "code",
   "execution_count": 20,
   "id": "71b6de90-e0b3-4157-8585-c6a39c46bcb2",
   "metadata": {},
   "outputs": [
    {
     "data": {
      "text/plain": [
       "'this is my cllas'"
      ]
     },
     "execution_count": 20,
     "metadata": {},
     "output_type": "execute_result"
    }
   ],
   "source": [
    "s1.lower()"
   ]
  },
  {
   "cell_type": "code",
   "execution_count": 23,
   "id": "38c411c9-c5ae-4f43-bad6-7345c9863a9d",
   "metadata": {},
   "outputs": [
    {
     "data": {
      "text/plain": [
       "'THIS IS MY CLLAS'"
      ]
     },
     "execution_count": 23,
     "metadata": {},
     "output_type": "execute_result"
    }
   ],
   "source": [
    "s1.upper()"
   ]
  },
  {
   "cell_type": "code",
   "execution_count": 24,
   "id": "afbd5d43-cd5c-4ecf-a5bb-0bb2f9787966",
   "metadata": {},
   "outputs": [
    {
     "data": {
      "text/plain": [
       "'This Is My Cllas'"
      ]
     },
     "execution_count": 24,
     "metadata": {},
     "output_type": "execute_result"
    }
   ],
   "source": [
    "s1.title()"
   ]
  },
  {
   "cell_type": "code",
   "execution_count": 25,
   "id": "cedd4d33-b432-4873-8b6f-58aafb74bd21",
   "metadata": {},
   "outputs": [
    {
     "data": {
      "text/plain": [
       "'This is my cllas'"
      ]
     },
     "execution_count": 25,
     "metadata": {},
     "output_type": "execute_result"
    }
   ],
   "source": [
    "s1.capitalize()"
   ]
  },
  {
   "cell_type": "code",
   "execution_count": 26,
   "id": "af381757-d219-417b-b687-5f22c667b864",
   "metadata": {},
   "outputs": [
    {
     "data": {
      "text/plain": [
       "'this is my cllas'"
      ]
     },
     "execution_count": 26,
     "metadata": {},
     "output_type": "execute_result"
    }
   ],
   "source": [
    "s1.casefold()"
   ]
  },
  {
   "cell_type": "code",
   "execution_count": 37,
   "id": "93207cb5-e6c1-472a-828b-81606c0bb0ca",
   "metadata": {},
   "outputs": [
    {
     "data": {
      "text/plain": [
       "'THIS IS MY CLLAS'"
      ]
     },
     "execution_count": 37,
     "metadata": {},
     "output_type": "execute_result"
    }
   ],
   "source": [
    "s1.center(2)"
   ]
  },
  {
   "cell_type": "code",
   "execution_count": 38,
   "id": "b4645a79-b453-4f2b-b2a8-7a141db967de",
   "metadata": {},
   "outputs": [
    {
     "data": {
      "text/plain": [
       "'u are`nt here'"
      ]
     },
     "execution_count": 38,
     "metadata": {},
     "output_type": "execute_result"
    }
   ],
   "source": [
    "'u are`nt here'"
   ]
  },
  {
   "cell_type": "code",
   "execution_count": 45,
   "id": "ac108bc5-45e3-4b59-9f3b-8eae3bea201f",
   "metadata": {},
   "outputs": [],
   "source": [
    "##\"This is my claas\"##"
   ]
  },
  {
   "cell_type": "code",
   "execution_count": 51,
   "id": "7f994ed5-3816-4955-93f3-5da8af79b96a",
   "metadata": {},
   "outputs": [],
   "source": [
    "s3=\"\"\"THis is my class for programming but \n",
    "i have leaent varabile,decleration,datatype,string ,true,boolean and\n",
    "i have seen some of example partices\"\"\""
   ]
  },
  {
   "cell_type": "code",
   "execution_count": 52,
   "id": "f7381e22-6683-4774-9cca-50bec8a14aae",
   "metadata": {},
   "outputs": [
    {
     "data": {
      "text/plain": [
       "'THis is my class for programming but \\ni have leaent varabile,decleration,datatype,string ,true,boolean and\\ni have seen some of example partices'"
      ]
     },
     "execution_count": 52,
     "metadata": {},
     "output_type": "execute_result"
    }
   ],
   "source": [
    "s3"
   ]
  },
  {
   "cell_type": "code",
   "execution_count": 53,
   "id": "0b282af9-96f8-40f6-928c-c1093b0d178b",
   "metadata": {},
   "outputs": [
    {
     "data": {
      "text/plain": [
       "143"
      ]
     },
     "execution_count": 53,
     "metadata": {},
     "output_type": "execute_result"
    }
   ],
   "source": [
    "len(s3)"
   ]
  },
  {
   "cell_type": "code",
   "execution_count": 55,
   "id": "89a1587c-fa0e-4df4-a330-567fd4e7320b",
   "metadata": {},
   "outputs": [],
   "source": [
    "# 2nd topics leature"
   ]
  },
  {
   "cell_type": "code",
   "execution_count": 56,
   "id": "abf0bc33-1337-41ad-8cab-edd4cd9131be",
   "metadata": {},
   "outputs": [],
   "source": [
    "l=[1,222,2834.35,\"True\",\"False\",45]"
   ]
  },
  {
   "cell_type": "code",
   "execution_count": 57,
   "id": "e7b0feba-664c-4f16-94a4-43f572968477",
   "metadata": {},
   "outputs": [
    {
     "data": {
      "text/plain": [
       "list"
      ]
     },
     "execution_count": 57,
     "metadata": {},
     "output_type": "execute_result"
    }
   ],
   "source": [
    "type(l)"
   ]
  },
  {
   "cell_type": "code",
   "execution_count": 59,
   "id": "23f72675-978a-4800-a9fb-949e9840ddcd",
   "metadata": {},
   "outputs": [
    {
     "data": {
      "text/plain": [
       "1"
      ]
     },
     "execution_count": 59,
     "metadata": {},
     "output_type": "execute_result"
    }
   ],
   "source": [
    "l[0]"
   ]
  },
  {
   "cell_type": "code",
   "execution_count": 60,
   "id": "b5f821e8-ed5f-4159-9579-af51a2118988",
   "metadata": {},
   "outputs": [
    {
     "data": {
      "text/plain": [
       "'False'"
      ]
     },
     "execution_count": 60,
     "metadata": {},
     "output_type": "execute_result"
    }
   ],
   "source": [
    "l[4]"
   ]
  },
  {
   "cell_type": "code",
   "execution_count": 61,
   "id": "23d5b2b5-f741-4c85-8118-cc65ec5e08ba",
   "metadata": {},
   "outputs": [
    {
     "data": {
      "text/plain": [
       "2834.35"
      ]
     },
     "execution_count": 61,
     "metadata": {},
     "output_type": "execute_result"
    }
   ],
   "source": [
    "l[2]"
   ]
  },
  {
   "cell_type": "code",
   "execution_count": 62,
   "id": "93c882cf-d62f-4ee7-a02f-2906f94c733b",
   "metadata": {},
   "outputs": [
    {
     "ename": "IndexError",
     "evalue": "list index out of range",
     "output_type": "error",
     "traceback": [
      "\u001b[0;31m---------------------------------------------------------------------------\u001b[0m",
      "\u001b[0;31mIndexError\u001b[0m                                Traceback (most recent call last)",
      "Cell \u001b[0;32mIn[62], line 1\u001b[0m\n\u001b[0;32m----> 1\u001b[0m \u001b[43ml\u001b[49m\u001b[43m[\u001b[49m\u001b[38;5;241;43m500000\u001b[39;49m\u001b[43m]\u001b[49m\n",
      "\u001b[0;31mIndexError\u001b[0m: list index out of range"
     ]
    }
   ],
   "source": [
    "l[500000]"
   ]
  },
  {
   "cell_type": "code",
   "execution_count": 63,
   "id": "9c8f5cef-c880-41c2-9206-a253f24fdd67",
   "metadata": {},
   "outputs": [
    {
     "data": {
      "text/plain": [
       "[1, 222, 2834.35, 'True', 'False', 45]"
      ]
     },
     "execution_count": 63,
     "metadata": {},
     "output_type": "execute_result"
    }
   ],
   "source": [
    "l"
   ]
  },
  {
   "cell_type": "code",
   "execution_count": 73,
   "id": "dde42b22-1104-4cf1-9285-d66c018b2b5f",
   "metadata": {},
   "outputs": [
    {
     "data": {
      "text/plain": [
       "[1, 222, 2834.35, 'True', 'False', 45]"
      ]
     },
     "execution_count": 73,
     "metadata": {},
     "output_type": "execute_result"
    }
   ],
   "source": [
    "l[0:6]"
   ]
  },
  {
   "cell_type": "code",
   "execution_count": 70,
   "id": "6e4ace45-9dd4-4374-995e-5511f9383be3",
   "metadata": {},
   "outputs": [
    {
     "data": {
      "text/plain": [
       "45"
      ]
     },
     "execution_count": 70,
     "metadata": {},
     "output_type": "execute_result"
    }
   ],
   "source": [
    "l[-1]"
   ]
  },
  {
   "cell_type": "code",
   "execution_count": 74,
   "id": "ea93eb9d-f2a0-4e36-bc89-8a3aac2aca25",
   "metadata": {},
   "outputs": [
    {
     "data": {
      "text/plain": [
       "[45, 'False', 'True', 2834.35, 222, 1]"
      ]
     },
     "execution_count": 74,
     "metadata": {},
     "output_type": "execute_result"
    }
   ],
   "source": [
    "l[::-1]"
   ]
  },
  {
   "cell_type": "code",
   "execution_count": 75,
   "id": "5ac64cd4-a4dd-4a3d-ab0f-90731d013c88",
   "metadata": {},
   "outputs": [
    {
     "data": {
      "text/plain": [
       "[1, 222, 2834.35, 'True', 'False', 45]"
      ]
     },
     "execution_count": 75,
     "metadata": {},
     "output_type": "execute_result"
    }
   ],
   "source": [
    "l[::1]"
   ]
  },
  {
   "cell_type": "code",
   "execution_count": 76,
   "id": "e99522fc-7302-4b6a-9c7e-753af649f491",
   "metadata": {},
   "outputs": [
    {
     "data": {
      "text/plain": [
       "[1, 2834.35, 'False']"
      ]
     },
     "execution_count": 76,
     "metadata": {},
     "output_type": "execute_result"
    }
   ],
   "source": [
    "l[::2]"
   ]
  },
  {
   "cell_type": "code",
   "execution_count": 77,
   "id": "410b4958-317c-4112-a3b9-b8c8bd3bdddc",
   "metadata": {},
   "outputs": [
    {
     "data": {
      "text/plain": [
       "[1, 222, 2834.35, 'True', 'False', 45]"
      ]
     },
     "execution_count": 77,
     "metadata": {},
     "output_type": "execute_result"
    }
   ],
   "source": [
    "l"
   ]
  },
  {
   "cell_type": "code",
   "execution_count": 78,
   "id": "2f83a33c-1b7f-4d4a-9e34-acb65ccbe20c",
   "metadata": {},
   "outputs": [
    {
     "data": {
      "text/plain": [
       "[1, 222, 2834.35, 'True', 'False', 45]"
      ]
     },
     "execution_count": 78,
     "metadata": {},
     "output_type": "execute_result"
    }
   ],
   "source": [
    "l[::1]"
   ]
  },
  {
   "cell_type": "code",
   "execution_count": 83,
   "id": "2d29832b-cf80-4bae-a06e-50a2a5c79abe",
   "metadata": {},
   "outputs": [
    {
     "data": {
      "text/plain": [
       "[1, 2834.35, 'False']"
      ]
     },
     "execution_count": 83,
     "metadata": {},
     "output_type": "execute_result"
    }
   ],
   "source": [
    "l[::2]"
   ]
  },
  {
   "cell_type": "code",
   "execution_count": 80,
   "id": "cc476979-f91a-4c04-9022-9336c9cee896",
   "metadata": {},
   "outputs": [
    {
     "data": {
      "text/plain": [
       "[1, 222, 2834.35, 'True', 'False', 45]"
      ]
     },
     "execution_count": 80,
     "metadata": {},
     "output_type": "execute_result"
    }
   ],
   "source": [
    "l"
   ]
  },
  {
   "cell_type": "code",
   "execution_count": 110,
   "id": "8a6077e7-a53d-42ee-baf8-2a33e139da8d",
   "metadata": {},
   "outputs": [
    {
     "name": "stdout",
     "output_type": "stream",
     "text": [
      "odd 1\n",
      "even 222\n",
      "odd 2834.35\n",
      "odd 45\n"
     ]
    }
   ],
   "source": [
    "for i in l:\n",
    "    if type(i)==int or type(i)==float:\n",
    "        if i%2==0:\n",
    "            print('even',i)\n",
    "        else:\n",
    "            print('odd',i)\n",
    "    # \n",
    "    #     print(l[i])"
   ]
  },
  {
   "cell_type": "code",
   "execution_count": 85,
   "id": "ef897e05-7d2e-4aaa-b1e6-70492ee7ea5e",
   "metadata": {},
   "outputs": [
    {
     "name": "stdout",
     "output_type": "stream",
     "text": [
      "222\n",
      "True\n",
      "45\n"
     ]
    }
   ],
   "source": [
    "for i in range(len(l)):\n",
    "    if i%2!=0:\n",
    "        print(l[i])"
   ]
  },
  {
   "cell_type": "code",
   "execution_count": 86,
   "id": "52671f85-e594-4a5e-b1a7-e6085fa6acd3",
   "metadata": {},
   "outputs": [],
   "source": [
    "k=\"HELLo WORLD\""
   ]
  },
  {
   "cell_type": "code",
   "execution_count": 87,
   "id": "a1b53149-d5e3-402d-ba90-2cc09482c4eb",
   "metadata": {},
   "outputs": [
    {
     "ename": "TypeError",
     "evalue": "can only concatenate list (not \"str\") to list",
     "output_type": "error",
     "traceback": [
      "\u001b[0;31m---------------------------------------------------------------------------\u001b[0m",
      "\u001b[0;31mTypeError\u001b[0m                                 Traceback (most recent call last)",
      "Cell \u001b[0;32mIn[87], line 1\u001b[0m\n\u001b[0;32m----> 1\u001b[0m \u001b[43ml\u001b[49m\u001b[38;5;241;43m+\u001b[39;49m\u001b[43mk\u001b[49m\n",
      "\u001b[0;31mTypeError\u001b[0m: can only concatenate list (not \"str\") to list"
     ]
    }
   ],
   "source": [
    "l+k"
   ]
  },
  {
   "cell_type": "code",
   "execution_count": 88,
   "id": "4d1d240a-a282-4029-b688-9f2c410054ee",
   "metadata": {},
   "outputs": [
    {
     "data": {
      "text/plain": [
       "['H', 'E', 'L', 'L', 'o', ' ', 'W', 'O', 'R', 'L', 'D']"
      ]
     },
     "execution_count": 88,
     "metadata": {},
     "output_type": "execute_result"
    }
   ],
   "source": [
    "list(k)"
   ]
  },
  {
   "cell_type": "code",
   "execution_count": 93,
   "id": "1088fcc1-ced2-48dc-9042-cedcf0e50bb1",
   "metadata": {},
   "outputs": [
    {
     "data": {
      "text/plain": [
       "['H',\n",
       " 'E',\n",
       " 'L',\n",
       " 'L',\n",
       " 'o',\n",
       " ' ',\n",
       " 'W',\n",
       " 'O',\n",
       " 'R',\n",
       " 'L',\n",
       " 'D',\n",
       " 1,\n",
       " 222,\n",
       " 2834.35,\n",
       " 'True',\n",
       " 'False',\n",
       " 45,\n",
       " 1,\n",
       " 222,\n",
       " 2834.35,\n",
       " 'True',\n",
       " 'False',\n",
       " 45]"
      ]
     },
     "execution_count": 93,
     "metadata": {},
     "output_type": "execute_result"
    }
   ],
   "source": [
    "list(k)+l+l"
   ]
  },
  {
   "cell_type": "code",
   "execution_count": 94,
   "id": "2e26aab2-5cd2-4638-9292-63753fdcb9d6",
   "metadata": {},
   "outputs": [
    {
     "data": {
      "text/plain": [
       "[1, 222, 2834.35, 'True', 'False', 45]"
      ]
     },
     "execution_count": 94,
     "metadata": {},
     "output_type": "execute_result"
    }
   ],
   "source": [
    "l"
   ]
  },
  {
   "cell_type": "code",
   "execution_count": 99,
   "id": "322a5d04-2269-437a-a3bc-d447b46b23e1",
   "metadata": {},
   "outputs": [
    {
     "data": {
      "text/plain": [
       "'True'"
      ]
     },
     "execution_count": 99,
     "metadata": {},
     "output_type": "execute_result"
    }
   ],
   "source": [
    "l[3]"
   ]
  },
  {
   "cell_type": "code",
   "execution_count": 101,
   "id": "8078e491-2dcb-4217-bb92-4a410decec32",
   "metadata": {},
   "outputs": [
    {
     "data": {
      "text/plain": [
       "str"
      ]
     },
     "execution_count": 101,
     "metadata": {},
     "output_type": "execute_result"
    }
   ],
   "source": [
    "type(l[3])"
   ]
  },
  {
   "cell_type": "code",
   "execution_count": 102,
   "id": "3b2a17f2-1ba5-445b-81ea-051e916818f9",
   "metadata": {},
   "outputs": [
    {
     "data": {
      "text/plain": [
       "'True'"
      ]
     },
     "execution_count": 102,
     "metadata": {},
     "output_type": "execute_result"
    }
   ],
   "source": [
    "l[3]"
   ]
  },
  {
   "cell_type": "code",
   "execution_count": 104,
   "id": "d1f32f58-1f54-4910-9a98-1aab726a7c05",
   "metadata": {},
   "outputs": [
    {
     "data": {
      "text/plain": [
       "'Tru'"
      ]
     },
     "execution_count": 104,
     "metadata": {},
     "output_type": "execute_result"
    }
   ],
   "source": [
    "l[3][0:3]"
   ]
  },
  {
   "cell_type": "code",
   "execution_count": 106,
   "id": "6491bce3-26c3-4dc3-9e80-fbba74f2e625",
   "metadata": {},
   "outputs": [
    {
     "data": {
      "text/plain": [
       "'Tru'"
      ]
     },
     "execution_count": 106,
     "metadata": {},
     "output_type": "execute_result"
    }
   ],
   "source": [
    "l[3][:3]"
   ]
  },
  {
   "cell_type": "code",
   "execution_count": 6,
   "id": "bd8a8cd6-19ba-45c1-8f99-8707b5915010",
   "metadata": {},
   "outputs": [],
   "source": [
    "##leetcode, hacker rank, code chef and dummy projects for python (coding partice)"
   ]
  },
  {
   "cell_type": "code",
   "execution_count": 12,
   "id": "6f1682a7-1d38-4a53-9bc4-fc60de7c8913",
   "metadata": {},
   "outputs": [],
   "source": [
    "l=[1, 222, 2834.35, 'True', 'False', 45]"
   ]
  },
  {
   "cell_type": "code",
   "execution_count": 13,
   "id": "4da6b398-51bb-476c-a750-9f2946da3524",
   "metadata": {},
   "outputs": [],
   "source": [
    "ll=[99,8,98,789]"
   ]
  },
  {
   "cell_type": "code",
   "execution_count": 24,
   "id": "4d75acba-899a-44e6-9965-38bd773403cc",
   "metadata": {},
   "outputs": [
    {
     "data": {
      "text/plain": [
       "[1,\n",
       " 222,\n",
       " 2834.35,\n",
       " 'True',\n",
       " 'False',\n",
       " 45,\n",
       " [99, 8, 98, 789],\n",
       " [99, 8, 98, 789],\n",
       " [99, 8, 98, 789],\n",
       " [99, 8, 98, 789],\n",
       " [99, 8, 98, 789],\n",
       " [99, 8, 98, 789],\n",
       " [99, 8, 98, 789],\n",
       " [99, 8, 98, 789]]"
      ]
     },
     "execution_count": 24,
     "metadata": {},
     "output_type": "execute_result"
    }
   ],
   "source": [
    "l+[ll]*8\n",
    "\n"
   ]
  },
  {
   "cell_type": "code",
   "execution_count": 25,
   "id": "fead7ce4-2007-4dd5-8c45-a02a3a94229a",
   "metadata": {},
   "outputs": [
    {
     "data": {
      "text/plain": [
       "[1, 222, 2834.35, 'True', 'False', 45]"
      ]
     },
     "execution_count": 25,
     "metadata": {},
     "output_type": "execute_result"
    }
   ],
   "source": [
    "l"
   ]
  },
  {
   "cell_type": "code",
   "execution_count": 26,
   "id": "825c5a19-e126-481c-ba8c-d61023fb5092",
   "metadata": {},
   "outputs": [],
   "source": [
    "l.append(9)"
   ]
  },
  {
   "cell_type": "code",
   "execution_count": 27,
   "id": "8c57a30b-611c-4528-ab37-a063ced048ec",
   "metadata": {},
   "outputs": [
    {
     "data": {
      "text/plain": [
       "[1, 222, 2834.35, 'True', 'False', 45, 9]"
      ]
     },
     "execution_count": 27,
     "metadata": {},
     "output_type": "execute_result"
    }
   ],
   "source": [
    "l"
   ]
  },
  {
   "cell_type": "code",
   "execution_count": 31,
   "id": "d76a4bef-157f-4c6e-a3b8-f494a50b3ef4",
   "metadata": {},
   "outputs": [],
   "source": [
    "l.append(o)"
   ]
  },
  {
   "cell_type": "code",
   "execution_count": 30,
   "id": "421d79b2-a872-4afc-a9d8-92d9f425ebd0",
   "metadata": {},
   "outputs": [],
   "source": [
    "o=\"amao\""
   ]
  },
  {
   "cell_type": "code",
   "execution_count": 32,
   "id": "a0e10f06-d7d3-4f0d-8f70-04843759026a",
   "metadata": {},
   "outputs": [
    {
     "data": {
      "text/plain": [
       "[1, 222, 2834.35, 'True', 'False', 45, 9, 'amao']"
      ]
     },
     "execution_count": 32,
     "metadata": {},
     "output_type": "execute_result"
    }
   ],
   "source": [
    "l"
   ]
  },
  {
   "cell_type": "code",
   "execution_count": 33,
   "id": "a8edf882-7952-4c63-b2fd-6bcaba0d15c1",
   "metadata": {},
   "outputs": [],
   "source": [
    "l.append(ll)"
   ]
  },
  {
   "cell_type": "code",
   "execution_count": 34,
   "id": "cf405a51-821b-476c-afaf-e26429b96c57",
   "metadata": {},
   "outputs": [
    {
     "data": {
      "text/plain": [
       "[1, 222, 2834.35, 'True', 'False', 45, 9, 'amao', [99, 8, 98, 789]]"
      ]
     },
     "execution_count": 34,
     "metadata": {},
     "output_type": "execute_result"
    }
   ],
   "source": [
    "l"
   ]
  },
  {
   "cell_type": "code",
   "execution_count": 41,
   "id": "8d6cd039-5431-413d-b003-1199c66aa83a",
   "metadata": {},
   "outputs": [
    {
     "data": {
      "text/plain": [
       "[99, 8, 98, 789]"
      ]
     },
     "execution_count": 41,
     "metadata": {},
     "output_type": "execute_result"
    }
   ],
   "source": [
    "l[8]"
   ]
  },
  {
   "cell_type": "code",
   "execution_count": 44,
   "id": "2162ae8f-68bb-4a12-913a-c933deccd0bc",
   "metadata": {},
   "outputs": [
    {
     "data": {
      "text/plain": [
       "8"
      ]
     },
     "execution_count": 44,
     "metadata": {},
     "output_type": "execute_result"
    }
   ],
   "source": [
    "l[8][1]"
   ]
  },
  {
   "cell_type": "code",
   "execution_count": 45,
   "id": "1ea4d5c8-0a66-498d-ba8d-55ca0896387e",
   "metadata": {},
   "outputs": [
    {
     "data": {
      "text/plain": [
       "8"
      ]
     },
     "execution_count": 45,
     "metadata": {},
     "output_type": "execute_result"
    }
   ],
   "source": [
    "l[8][-3]"
   ]
  },
  {
   "cell_type": "code",
   "execution_count": 46,
   "id": "11f58ec2-8b7c-4349-8fa4-3ed52cc137bc",
   "metadata": {},
   "outputs": [
    {
     "ename": "TypeError",
     "evalue": "'int' object is not iterable",
     "output_type": "error",
     "traceback": [
      "\u001b[0;31m---------------------------------------------------------------------------\u001b[0m",
      "\u001b[0;31mTypeError\u001b[0m                                 Traceback (most recent call last)",
      "Cell \u001b[0;32mIn[46], line 1\u001b[0m\n\u001b[0;32m----> 1\u001b[0m \u001b[43ml\u001b[49m\u001b[38;5;241;43m.\u001b[39;49m\u001b[43mextend\u001b[49m\u001b[43m(\u001b[49m\u001b[38;5;241;43m4\u001b[39;49m\u001b[43m)\u001b[49m\n",
      "\u001b[0;31mTypeError\u001b[0m: 'int' object is not iterable"
     ]
    }
   ],
   "source": [
    "l.extend(4)"
   ]
  },
  {
   "cell_type": "code",
   "execution_count": 47,
   "id": "d19b526e-b0e5-42e6-8e59-03055342727c",
   "metadata": {},
   "outputs": [],
   "source": [
    "l.extend(\"ama\")"
   ]
  },
  {
   "cell_type": "code",
   "execution_count": 48,
   "id": "5bef15f3-a887-49ab-8a19-1c12514565a2",
   "metadata": {},
   "outputs": [
    {
     "data": {
      "text/plain": [
       "[1,\n",
       " 222,\n",
       " 2834.35,\n",
       " 'True',\n",
       " 'False',\n",
       " 45,\n",
       " 9,\n",
       " 'amao',\n",
       " [99, 8, 98, 789],\n",
       " 'a',\n",
       " 'm',\n",
       " 'a']"
      ]
     },
     "execution_count": 48,
     "metadata": {},
     "output_type": "execute_result"
    }
   ],
   "source": [
    "l"
   ]
  },
  {
   "cell_type": "code",
   "execution_count": 50,
   "id": "13bde279-9887-418b-ba78-97171a2895b6",
   "metadata": {},
   "outputs": [
    {
     "data": {
      "text/plain": [
       "[99, 8, 98, 789]"
      ]
     },
     "execution_count": 50,
     "metadata": {},
     "output_type": "execute_result"
    }
   ],
   "source": [
    "ll"
   ]
  },
  {
   "cell_type": "code",
   "execution_count": 51,
   "id": "5cd6be79-84cf-49bc-a3fe-24e33de926b3",
   "metadata": {},
   "outputs": [],
   "source": [
    "ll.insert(0,\"ama\")"
   ]
  },
  {
   "cell_type": "code",
   "execution_count": 52,
   "id": "d0f1c763-aa04-4b0a-ad50-78375a1bcbc4",
   "metadata": {},
   "outputs": [
    {
     "data": {
      "text/plain": [
       "['ama', 99, 8, 98, 789]"
      ]
     },
     "execution_count": 52,
     "metadata": {},
     "output_type": "execute_result"
    }
   ],
   "source": [
    "ll"
   ]
  },
  {
   "cell_type": "code",
   "execution_count": 56,
   "id": "faf330a0-9473-4056-8179-73525b145a10",
   "metadata": {},
   "outputs": [],
   "source": [
    "ll.insert(2,[2,3,4])"
   ]
  },
  {
   "cell_type": "code",
   "execution_count": 57,
   "id": "c5ea1608-31b8-4fdc-a027-e1f9eb37a7fc",
   "metadata": {},
   "outputs": [
    {
     "data": {
      "text/plain": [
       "['ama', 99, [2, 3, 4], 8, 98, 789]"
      ]
     },
     "execution_count": 57,
     "metadata": {},
     "output_type": "execute_result"
    }
   ],
   "source": [
    "ll"
   ]
  },
  {
   "cell_type": "code",
   "execution_count": 5,
   "id": "5ebb6ac6-f9a6-4106-9377-302573d88f8b",
   "metadata": {},
   "outputs": [
    {
     "ename": "NameError",
     "evalue": "name 'll' is not defined",
     "output_type": "error",
     "traceback": [
      "\u001b[0;31m---------------------------------------------------------------------------\u001b[0m",
      "\u001b[0;31mNameError\u001b[0m                                 Traceback (most recent call last)",
      "Cell \u001b[0;32mIn[5], line 1\u001b[0m\n\u001b[0;32m----> 1\u001b[0m \u001b[43mll\u001b[49m\u001b[38;5;241m.\u001b[39minsert(\u001b[38;5;241m-\u001b[39m\u001b[38;5;241m1\u001b[39m,\u001b[38;5;241m45\u001b[39m)\n",
      "\u001b[0;31mNameError\u001b[0m: name 'll' is not defined"
     ]
    }
   ],
   "source": [
    "ll.insert(-1,45)"
   ]
  },
  {
   "cell_type": "code",
   "execution_count": 6,
   "id": "438d9495-c1fd-434c-8427-f0ddf96047c0",
   "metadata": {},
   "outputs": [
    {
     "name": "stdout",
     "output_type": "stream",
     "text": [
      "total 52\n",
      "-rw-r--r-- 1 jovyan   198 Apr 11 11:11 README.md\n",
      "-rw-r--r-- 1 jovyan  3151 Apr 11 11:11 sample-code.ipynb\n",
      "-rw-r--r-- 1 jovyan 43844 Apr 19 11:36 Untitled.ipynb\n"
     ]
    }
   ],
   "source": [
    "ll"
   ]
  },
  {
   "cell_type": "code",
   "execution_count": 7,
   "id": "5133ed70-e3f3-4daf-a62b-63e287267719",
   "metadata": {},
   "outputs": [
    {
     "name": "stdout",
     "output_type": "stream",
     "text": [
      "total 52\n",
      "-rw-r--r-- 1 jovyan   198 Apr 11 11:11 README.md\n",
      "-rw-r--r-- 1 jovyan  3151 Apr 11 11:11 sample-code.ipynb\n",
      "-rw-r--r-- 1 jovyan 43844 Apr 19 11:36 Untitled.ipynb\n"
     ]
    }
   ],
   "source": [
    "ll"
   ]
  },
  {
   "cell_type": "code",
   "execution_count": 8,
   "id": "d010cc02-8154-480d-9e79-4f0644a57f15",
   "metadata": {},
   "outputs": [
    {
     "name": "stdout",
     "output_type": "stream",
     "text": [
      "total 52\n",
      "-rw-r--r-- 1 jovyan   198 Apr 11 11:11 README.md\n",
      "-rw-r--r-- 1 jovyan  3151 Apr 11 11:11 sample-code.ipynb\n",
      "-rw-r--r-- 1 jovyan 43844 Apr 19 11:36 Untitled.ipynb\n"
     ]
    }
   ],
   "source": [
    "ll"
   ]
  },
  {
   "cell_type": "code",
   "execution_count": null,
   "id": "200c93a5-42ed-4b05-b174-a4be4ddcf0d3",
   "metadata": {},
   "outputs": [],
   "source": []
  },
  {
   "cell_type": "code",
   "execution_count": null,
   "id": "0a1331af-26e3-4159-a5ef-2dec7d069fa8",
   "metadata": {},
   "outputs": [],
   "source": []
  }
 ],
 "metadata": {
  "kernelspec": {
   "display_name": "Python 3 (ipykernel)",
   "language": "python",
   "name": "python3"
  },
  "language_info": {
   "codemirror_mode": {
    "name": "ipython",
    "version": 3
   },
   "file_extension": ".py",
   "mimetype": "text/x-python",
   "name": "python",
   "nbconvert_exporter": "python",
   "pygments_lexer": "ipython3",
   "version": "3.10.8"
  }
 },
 "nbformat": 4,
 "nbformat_minor": 5
}
